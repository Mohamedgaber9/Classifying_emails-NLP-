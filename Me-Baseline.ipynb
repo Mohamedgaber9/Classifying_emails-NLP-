{
 "cells": [
  {
   "cell_type": "code",
   "execution_count": 228,
   "id": "8a0d6266",
   "metadata": {},
   "outputs": [],
   "source": [
    "import pandas as pd\n",
    "import matplotlib.pyplot as plt\n",
    "%matplotlib inline\n",
    "import os\n",
    "import re\n",
    "import hashlib\n",
    "import numpy as np\n",
    "import spacy\n",
    "import string\n",
    "\n",
    "from nltk.corpus import stopwords\n",
    "from sklearn.model_selection import GridSearchCV\n",
    "from textblob import TextBlob\n",
    "from nltk.stem.snowball import SnowballStemmer\n",
    "from tqdm import tqdm\n",
    "from spacy.matcher import Matcher\n",
    "from sklearn.metrics import accuracy_score, f1_score \n",
    "from nltk.tokenize import WordPunctTokenizer\n",
    "from sklearn.preprocessing import StandardScaler\n",
    "from sklearn.ensemble import RandomForestClassifier\n",
    "from sklearn.pipeline import Pipeline, FeatureUnion\n",
    "from sklearn.model_selection import train_test_split\n",
    "from sklearn.base import BaseEstimator, TransformerMixin\n",
    "from sklearn.feature_extraction.text import TfidfVectorizer\n",
    "from sklearn.neighbors import KNeighborsClassifier\n",
    "from sklearn.svm import SVC"
   ]
  },
  {
   "cell_type": "code",
   "execution_count": 229,
   "id": "2b975f03",
   "metadata": {},
   "outputs": [
    {
     "data": {
      "text/html": [
       "<div>\n",
       "<style scoped>\n",
       "    .dataframe tbody tr th:only-of-type {\n",
       "        vertical-align: middle;\n",
       "    }\n",
       "\n",
       "    .dataframe tbody tr th {\n",
       "        vertical-align: top;\n",
       "    }\n",
       "\n",
       "    .dataframe thead th {\n",
       "        text-align: right;\n",
       "    }\n",
       "</style>\n",
       "<table border=\"1\" class=\"dataframe\">\n",
       "  <thead>\n",
       "    <tr style=\"text-align: right;\">\n",
       "      <th></th>\n",
       "      <th>text</th>\n",
       "      <th>class</th>\n",
       "    </tr>\n",
       "  </thead>\n",
       "  <tbody>\n",
       "    <tr>\n",
       "      <th>0</th>\n",
       "      <td>Hello, Does it matter iff I use Visa or Master...</td>\n",
       "      <td>card</td>\n",
       "    </tr>\n",
       "    <tr>\n",
       "      <th>1</th>\n",
       "      <td>Good afternoon, I just got refunded for my pur...</td>\n",
       "      <td>card</td>\n",
       "    </tr>\n",
       "    <tr>\n",
       "      <th>2</th>\n",
       "      <td>Hello, I got billed ann extra pound! Thanks</td>\n",
       "      <td>others</td>\n",
       "    </tr>\n",
       "    <tr>\n",
       "      <th>3</th>\n",
       "      <td>Hi, How long does it take for a transfer to sh...</td>\n",
       "      <td>transfer</td>\n",
       "    </tr>\n",
       "    <tr>\n",
       "      <th>4</th>\n",
       "      <td>hi, When can I use money sent to my accountt? ...</td>\n",
       "      <td>transfer</td>\n",
       "    </tr>\n",
       "  </tbody>\n",
       "</table>\n",
       "</div>"
      ],
      "text/plain": [
       "                                                text     class\n",
       "0  Hello, Does it matter iff I use Visa or Master...      card\n",
       "1  Good afternoon, I just got refunded for my pur...      card\n",
       "2        Hello, I got billed ann extra pound! Thanks    others\n",
       "3  Hi, How long does it take for a transfer to sh...  transfer\n",
       "4  hi, When can I use money sent to my accountt? ...  transfer"
      ]
     },
     "execution_count": 229,
     "metadata": {},
     "output_type": "execute_result"
    }
   ],
   "source": [
    "df = pd.read_csv('data/data.csv')\n",
    "df.head()"
   ]
  },
  {
   "cell_type": "markdown",
   "id": "fdfd1647",
   "metadata": {},
   "source": [
    "# Preprocessing For text features "
   ]
  },
  {
   "cell_type": "code",
   "execution_count": 230,
   "id": "3f02b077",
   "metadata": {},
   "outputs": [],
   "source": [
    "class Preprocessing_text (TransformerMixin):\n",
    "    def __init__(self, tokenizer, stemmer=None, lower=True, Remove_punc=True, stopwords=None, regex_list=None):\n",
    "        self.tokenizer = tokenizer\n",
    "        self.stemmer = stemmer\n",
    "        self.lower = lower\n",
    "        self.Remove_punc = Remove_punc\n",
    "        self.stopwords = stopwords\n",
    "        self.regex_list = regex_list\n",
    "        \n",
    "    def transform (self, df, *_):\n",
    "        X = list(map(self.clean_sen, df))\n",
    "        return X\n",
    "    \n",
    "    def clean_sen(self, sentence):\n",
    "        #lower\n",
    "        if self.lower:\n",
    "            sentence = sentence.lower()\n",
    "        \n",
    "        #remove_punctuation\n",
    "        if self.Remove_punc:\n",
    "            sentence = re.sub(r'[^\\w\\s]', '', sentence)\n",
    "            \n",
    "        #remove those in regex_list\n",
    "        if self.regex_list:\n",
    "            for regex in self.regex_list:\n",
    "                sentence = re.sub(regex, '', sentence)\n",
    "                \n",
    "        #remove stopwords\n",
    "        if self.stopwords:\n",
    "            words = []\n",
    "            tokenized_words = self.tokenizer.tokenize(sentence)\n",
    "            for word in tokenized_words:\n",
    "                if word not in self.stopwords:\n",
    "                    words.append(word)\n",
    "            sentence = \" \".join(words)\n",
    "            \n",
    "        #stemming\n",
    "        if self.stemmer:\n",
    "            words = []\n",
    "            tokenized_words = self.tokenizer.tokenize(sentence)\n",
    "            for word in tokenized_words:\n",
    "                if word not in self.stopwords:\n",
    "                    words.append(self.stemmer.stem(word))\n",
    "            sentence = \" \".join(words)\n",
    "            \n",
    "        return sentence\n",
    "            \n",
    "    def fit(self, *_):\n",
    "            return self"
   ]
  },
  {
   "cell_type": "code",
   "execution_count": 231,
   "id": "4e632699",
   "metadata": {},
   "outputs": [],
   "source": [
    "def Preprocess_text(df, tokenizer, stemmer=None, lower=True, Remove_punc=True, stopwords=None, regex_list=None):\n",
    "    cleaner = Preprocessing_text(tokenizer, stemmer=stemmer, lower=lower, Remove_punc=Remove_punc, stopwords=stopwords, regex_list=regex_list)\n",
    "    \n",
    "    df_cleaned = df.copy()\n",
    "    df_cleaned['cleaned_text'] = cleaner.transform(df_cleaned['text'])\n",
    "    \n",
    "    return df_cleaned"
   ]
  },
  {
   "cell_type": "markdown",
   "id": "2c5d26e2",
   "metadata": {},
   "source": [
    "# Create additional numeric features  "
   ]
  },
  {
   "cell_type": "code",
   "execution_count": 233,
   "id": "32169a12",
   "metadata": {},
   "outputs": [],
   "source": [
    "def Preprocess_num(df):\n",
    "    df_new = df.copy()\n",
    "    \n",
    "    #for text column\n",
    "    df_new[\"nb_words\"] = df_new['text'].str.split().map(len)\n",
    "    df_new[\"doc_length\"] = df_new['text'].map(len)\n",
    "    df_new[\"avg_word_length\"] =  df_new['text'].apply(lambda x: np.mean([len(t) for t in x.split(' ')]) if len([len(t) for t in x.split(' ')]) > 0 else 0)\n",
    "    \n",
    "    #for cleaned_text column\n",
    "    df_new[\"nb_words_cleaned\"] = df_new['cleaned_text'].str.split().map(len)\n",
    "    df_new[\"doc_length_cleaned\"] = df_new['cleaned_text'].map(len)\n",
    "    df_new[\"avg_word_length_cleaned\"] =  df_new['cleaned_text'].apply(lambda x: np.mean([len(t) for t in x.split(' ')]) if len([len(t) for t in x.split(' ')]) > 0 else 0)\n",
    "    \n",
    "    return df_new"
   ]
  },
  {
   "cell_type": "markdown",
   "id": "d5991433",
   "metadata": {},
   "source": [
    "# Apply preprocessing for text feature "
   ]
  },
  {
   "cell_type": "code",
   "execution_count": 234,
   "id": "6947e3b7",
   "metadata": {
    "scrolled": true
   },
   "outputs": [
    {
     "data": {
      "text/html": [
       "<div>\n",
       "<style scoped>\n",
       "    .dataframe tbody tr th:only-of-type {\n",
       "        vertical-align: middle;\n",
       "    }\n",
       "\n",
       "    .dataframe tbody tr th {\n",
       "        vertical-align: top;\n",
       "    }\n",
       "\n",
       "    .dataframe thead th {\n",
       "        text-align: right;\n",
       "    }\n",
       "</style>\n",
       "<table border=\"1\" class=\"dataframe\">\n",
       "  <thead>\n",
       "    <tr style=\"text-align: right;\">\n",
       "      <th></th>\n",
       "      <th>text</th>\n",
       "      <th>class</th>\n",
       "      <th>cleaned_text</th>\n",
       "    </tr>\n",
       "  </thead>\n",
       "  <tbody>\n",
       "    <tr>\n",
       "      <th>0</th>\n",
       "      <td>Hello, Does it matter iff I use Visa or Master...</td>\n",
       "      <td>card</td>\n",
       "      <td>does it matter iff i use visa or mastercard</td>\n",
       "    </tr>\n",
       "    <tr>\n",
       "      <th>1</th>\n",
       "      <td>Good afternoon, I just got refunded for my pur...</td>\n",
       "      <td>card</td>\n",
       "      <td>i just got refunded for my purchase over two ...</td>\n",
       "    </tr>\n",
       "    <tr>\n",
       "      <th>2</th>\n",
       "      <td>Hello, I got billed ann extra pound! Thanks</td>\n",
       "      <td>others</td>\n",
       "      <td>i got billed ann extra pound</td>\n",
       "    </tr>\n",
       "    <tr>\n",
       "      <th>3</th>\n",
       "      <td>Hi, How long does it take for a transfer to sh...</td>\n",
       "      <td>transfer</td>\n",
       "      <td>how long does it take for a transfer to show ...</td>\n",
       "    </tr>\n",
       "    <tr>\n",
       "      <th>4</th>\n",
       "      <td>hi, When can I use money sent to my accountt? ...</td>\n",
       "      <td>transfer</td>\n",
       "      <td>when can i use money sent to my accountt</td>\n",
       "    </tr>\n",
       "  </tbody>\n",
       "</table>\n",
       "</div>"
      ],
      "text/plain": [
       "                                                text     class  \\\n",
       "0  Hello, Does it matter iff I use Visa or Master...      card   \n",
       "1  Good afternoon, I just got refunded for my pur...      card   \n",
       "2        Hello, I got billed ann extra pound! Thanks    others   \n",
       "3  Hi, How long does it take for a transfer to sh...  transfer   \n",
       "4  hi, When can I use money sent to my accountt? ...  transfer   \n",
       "\n",
       "                                        cleaned_text  \n",
       "0       does it matter iff i use visa or mastercard   \n",
       "1   i just got refunded for my purchase over two ...  \n",
       "2                      i got billed ann extra pound   \n",
       "3   how long does it take for a transfer to show ...  \n",
       "4          when can i use money sent to my accountt   "
      ]
     },
     "execution_count": 234,
     "metadata": {},
     "output_type": "execute_result"
    }
   ],
   "source": [
    "tokenizer = WordPunctTokenizer()\n",
    "stopwords_ = stopwords.words('english')\n",
    "stemmer = SnowballStemmer('english')\n",
    "regex_list_ =['hello', 'good afternoon', 'hi', 'good evening', 'good morning', 'kind regards', 'best regards', 'thanks']\n",
    "\n",
    "cleaned_train_data = Preprocess_text(df, tokenizer=tokenizer, stemmer=None, lower=True, Remove_punc=True, stopwords=None, regex_list=regex_list_)\n",
    "cleaned_train_data.head()"
   ]
  },
  {
   "cell_type": "markdown",
   "id": "48e04084",
   "metadata": {},
   "source": [
    "# Apply new numeric features "
   ]
  },
  {
   "cell_type": "code",
   "execution_count": 214,
   "id": "95ead73f",
   "metadata": {},
   "outputs": [
    {
     "data": {
      "text/html": [
       "<div>\n",
       "<style scoped>\n",
       "    .dataframe tbody tr th:only-of-type {\n",
       "        vertical-align: middle;\n",
       "    }\n",
       "\n",
       "    .dataframe tbody tr th {\n",
       "        vertical-align: top;\n",
       "    }\n",
       "\n",
       "    .dataframe thead th {\n",
       "        text-align: right;\n",
       "    }\n",
       "</style>\n",
       "<table border=\"1\" class=\"dataframe\">\n",
       "  <thead>\n",
       "    <tr style=\"text-align: right;\">\n",
       "      <th></th>\n",
       "      <th>text</th>\n",
       "      <th>class</th>\n",
       "      <th>cleaned_text</th>\n",
       "      <th>nb_words_cleaned</th>\n",
       "      <th>doc_length_cleaned</th>\n",
       "      <th>avg_word_length_cleaned</th>\n",
       "    </tr>\n",
       "  </thead>\n",
       "  <tbody>\n",
       "    <tr>\n",
       "      <th>0</th>\n",
       "      <td>Hello, Does it matter iff I use Visa or Master...</td>\n",
       "      <td>card</td>\n",
       "      <td>does it matter iff i use visa or mastercard</td>\n",
       "      <td>9</td>\n",
       "      <td>45</td>\n",
       "      <td>3.181818</td>\n",
       "    </tr>\n",
       "    <tr>\n",
       "      <th>1</th>\n",
       "      <td>Good afternoon, I just got refunded for my pur...</td>\n",
       "      <td>card</td>\n",
       "      <td>i just got refunded for my purchase over two ...</td>\n",
       "      <td>11</td>\n",
       "      <td>56</td>\n",
       "      <td>3.384615</td>\n",
       "    </tr>\n",
       "    <tr>\n",
       "      <th>2</th>\n",
       "      <td>Hello, I got billed ann extra pound! Thanks</td>\n",
       "      <td>others</td>\n",
       "      <td>i got billed ann extra pound</td>\n",
       "      <td>6</td>\n",
       "      <td>30</td>\n",
       "      <td>2.875000</td>\n",
       "    </tr>\n",
       "    <tr>\n",
       "      <th>3</th>\n",
       "      <td>Hi, How long does it take for a transfer to sh...</td>\n",
       "      <td>transfer</td>\n",
       "      <td>how long does it take for a transfer to show ...</td>\n",
       "      <td>14</td>\n",
       "      <td>63</td>\n",
       "      <td>3.000000</td>\n",
       "    </tr>\n",
       "    <tr>\n",
       "      <th>4</th>\n",
       "      <td>hi, When can I use money sent to my accountt? ...</td>\n",
       "      <td>transfer</td>\n",
       "      <td>when can i use money sent to my accountt</td>\n",
       "      <td>9</td>\n",
       "      <td>42</td>\n",
       "      <td>2.909091</td>\n",
       "    </tr>\n",
       "  </tbody>\n",
       "</table>\n",
       "</div>"
      ],
      "text/plain": [
       "                                                text     class  \\\n",
       "0  Hello, Does it matter iff I use Visa or Master...      card   \n",
       "1  Good afternoon, I just got refunded for my pur...      card   \n",
       "2        Hello, I got billed ann extra pound! Thanks    others   \n",
       "3  Hi, How long does it take for a transfer to sh...  transfer   \n",
       "4  hi, When can I use money sent to my accountt? ...  transfer   \n",
       "\n",
       "                                        cleaned_text  nb_words_cleaned  \\\n",
       "0       does it matter iff i use visa or mastercard                  9   \n",
       "1   i just got refunded for my purchase over two ...                11   \n",
       "2                      i got billed ann extra pound                  6   \n",
       "3   how long does it take for a transfer to show ...                14   \n",
       "4          when can i use money sent to my accountt                  9   \n",
       "\n",
       "   doc_length_cleaned  avg_word_length_cleaned  \n",
       "0                  45                 3.181818  \n",
       "1                  56                 3.384615  \n",
       "2                  30                 2.875000  \n",
       "3                  63                 3.000000  \n",
       "4                  42                 2.909091  "
      ]
     },
     "execution_count": 214,
     "metadata": {},
     "output_type": "execute_result"
    }
   ],
   "source": [
    "cleaned_train_data = Preprocess_num(cleaned_train_data)\n",
    "cleaned_train_data.head()"
   ]
  },
  {
   "cell_type": "markdown",
   "id": "a0091288",
   "metadata": {},
   "source": [
    "# Spilit the data"
   ]
  },
  {
   "cell_type": "code",
   "execution_count": 235,
   "id": "62614fed",
   "metadata": {},
   "outputs": [],
   "source": [
    "train, test = train_test_split(cleaned_train_data, test_size=0.2, random_state=41)"
   ]
  },
  {
   "cell_type": "markdown",
   "id": "1b99990a",
   "metadata": {},
   "source": [
    "# Define selectors to use it in the pipline "
   ]
  },
  {
   "cell_type": "code",
   "execution_count": 236,
   "id": "61de9171",
   "metadata": {},
   "outputs": [],
   "source": [
    "class Selector(BaseEstimator, TransformerMixin):\n",
    "    \"\"\"\n",
    "    Transformer to select a column from the dataframe to perform additional transformations on\n",
    "    \"\"\" \n",
    "    def __init__(self, key):\n",
    "        self.key = key\n",
    "        \n",
    "    def fit(self, X, y=None):\n",
    "        return self\n",
    "    \n",
    "\n",
    "class TextSelector(Selector):\n",
    "    \"\"\"\n",
    "    Transformer to select a single column from the data frame to perform additional transformations on\n",
    "    Use on text columns in the data\n",
    "    \"\"\"\n",
    "    def transform(self, X):\n",
    "        return X[self.key]\n",
    "    \n",
    "    \n",
    "class NumberSelector(Selector):\n",
    "    \"\"\"\n",
    "    Transformer to select a single column from the data frame to perform additional transformations on\n",
    "    Use on numeric columns in the data\n",
    "    \"\"\"\n",
    "    def transform(self, X):\n",
    "        return X[[self.key]]\n",
    "    "
   ]
  },
  {
   "cell_type": "markdown",
   "id": "ef35508c",
   "metadata": {},
   "source": [
    "# Creating the piplines"
   ]
  },
  {
   "cell_type": "code",
   "execution_count": 237,
   "id": "4abc5d54",
   "metadata": {},
   "outputs": [],
   "source": [
    "text = Pipeline([\n",
    "    ('selector', TextSelector(key='cleaned_text')),\n",
    "    ('vectorizer', TfidfVectorizer())\n",
    "])\n",
    "\n",
    "nb_words = Pipeline([\n",
    "    ('selector', NumberSelector(key='nb_words')),\n",
    "    ('scaler', StandardScaler())\n",
    "])\n",
    "\n",
    "doc_length = Pipeline([\n",
    "    ('selector', NumberSelector(key='doc_length')),\n",
    "    ('scaler', StandardScaler())\n",
    "])\n",
    "\n",
    "avg_word_length = Pipeline([\n",
    "    ('selector', NumberSelector(key='avg_word_length')),\n",
    "    ('scaler', StandardScaler())\n",
    "])\n",
    "\n",
    "nb_words_cleaned = Pipeline([\n",
    "    ('selector', NumberSelector(key='nb_words_cleaned')),\n",
    "    ('scaler', StandardScaler())\n",
    "])\n",
    "\n",
    "doc_length_cleaned = Pipeline([\n",
    "    ('selector', NumberSelector(key='doc_length_cleaned')),\n",
    "    ('scaler', StandardScaler())\n",
    "])\n",
    "\n",
    "avg_word_length_cleaned = Pipeline([\n",
    "    ('selector', NumberSelector(key='avg_word_length_cleaned')),\n",
    "    ('scaler', StandardScaler())\n",
    "])\n",
    "\n",
    "feats = FeatureUnion([\n",
    "    ('text', text),\n",
    "    ('nb_words', nb_words),\n",
    "    ('doc_length', doc_length),\n",
    "    ('avg_word_length', avg_word_length),\n",
    "    ('nb_words_cleaned', nb_words_cleaned),\n",
    "    ('doc_length_cleaned', doc_length_cleaned),\n",
    "    ('avg_word_length_cleaned', avg_word_length_cleaned)\n",
    "])\n",
    "\n",
    "pipline = Pipeline([\n",
    "    ('text', text),\n",
    "    ('clf', SVC(random_state=41))\n",
    "])"
   ]
  },
  {
   "cell_type": "code",
   "execution_count": 238,
   "id": "b9d96ea8",
   "metadata": {
    "scrolled": false
   },
   "outputs": [
    {
     "data": {
      "text/plain": [
       "Pipeline(steps=[('text',\n",
       "                 Pipeline(steps=[('selector', TextSelector(key='cleaned_text')),\n",
       "                                 ('vectorizer', TfidfVectorizer())])),\n",
       "                ('clf', SVC(random_state=41))])"
      ]
     },
     "execution_count": 238,
     "metadata": {},
     "output_type": "execute_result"
    }
   ],
   "source": [
    "pipline.fit(train, train['class'])\n"
   ]
  },
  {
   "cell_type": "code",
   "execution_count": 239,
   "id": "fbca68b8",
   "metadata": {
    "scrolled": true
   },
   "outputs": [
    {
     "data": {
      "text/plain": [
       "0.9116138190207869"
      ]
     },
     "execution_count": 239,
     "metadata": {},
     "output_type": "execute_result"
    }
   ],
   "source": [
    "y_preds = pipline.predict(test)\n",
    "f1 = f1_score(test['class'], y_preds, average='macro')\n",
    "f1"
   ]
  },
  {
   "cell_type": "markdown",
   "id": "25566a52",
   "metadata": {},
   "source": [
    "# Hyperparameter tuning"
   ]
  },
  {
   "cell_type": "code",
   "execution_count": 249,
   "id": "9b97048e",
   "metadata": {},
   "outputs": [],
   "source": [
    "param_grid = {'clf__C':np.arange(1,21),\n",
    "             'clf__gamma': [1, 0.1, 0.01, 0.001, 0.0001],\n",
    "             'clf__kernel' : ['linear', 'rbf', 'poly']} "
   ]
  },
  {
   "cell_type": "code",
   "execution_count": 250,
   "id": "6331cea9",
   "metadata": {},
   "outputs": [],
   "source": [
    "clf = GridSearchCV(pipline, param_grid=param_grid, n_jobs=-1)"
   ]
  },
  {
   "cell_type": "code",
   "execution_count": 251,
   "id": "d5f612c5",
   "metadata": {},
   "outputs": [
    {
     "data": {
      "text/plain": [
       "0.9231586521985096"
      ]
     },
     "execution_count": 251,
     "metadata": {},
     "output_type": "execute_result"
    }
   ],
   "source": [
    "clf.fit(train, train['class'].values)\n",
    "y_preds = clf.predict(test)\n",
    "f1 = f1_score(test['class'], y_preds, average='macro')\n",
    "f1"
   ]
  },
  {
   "cell_type": "markdown",
   "id": "045c6696",
   "metadata": {},
   "source": [
    "# Submission"
   ]
  },
  {
   "cell_type": "code",
   "execution_count": 252,
   "id": "1c2d792b",
   "metadata": {},
   "outputs": [
    {
     "data": {
      "text/html": [
       "<div>\n",
       "<style scoped>\n",
       "    .dataframe tbody tr th:only-of-type {\n",
       "        vertical-align: middle;\n",
       "    }\n",
       "\n",
       "    .dataframe tbody tr th {\n",
       "        vertical-align: top;\n",
       "    }\n",
       "\n",
       "    .dataframe thead th {\n",
       "        text-align: right;\n",
       "    }\n",
       "</style>\n",
       "<table border=\"1\" class=\"dataframe\">\n",
       "  <thead>\n",
       "    <tr style=\"text-align: right;\">\n",
       "      <th></th>\n",
       "      <th>text</th>\n",
       "      <th>cleaned_text</th>\n",
       "    </tr>\n",
       "  </thead>\n",
       "  <tbody>\n",
       "    <tr>\n",
       "      <th>0</th>\n",
       "      <td>How do I locate my card?</td>\n",
       "      <td>how do i locate my card</td>\n",
       "    </tr>\n",
       "    <tr>\n",
       "      <th>1</th>\n",
       "      <td>Why won't my card show up on the app?</td>\n",
       "      <td>why wont my card show up on the app</td>\n",
       "    </tr>\n",
       "    <tr>\n",
       "      <th>2</th>\n",
       "      <td>I need to know your exchange rates.</td>\n",
       "      <td>i need to know your exchange rates</td>\n",
       "    </tr>\n",
       "    <tr>\n",
       "      <th>3</th>\n",
       "      <td>I purchased something in a foreign currency bu...</td>\n",
       "      <td>i purchased sometng in a foreign currency but ...</td>\n",
       "    </tr>\n",
       "    <tr>\n",
       "      <th>4</th>\n",
       "      <td>My statement has a dollar I have been charged ...</td>\n",
       "      <td>my statement has a dollar i have been charged ...</td>\n",
       "    </tr>\n",
       "  </tbody>\n",
       "</table>\n",
       "</div>"
      ],
      "text/plain": [
       "                                                text  \\\n",
       "0                           How do I locate my card?   \n",
       "1              Why won't my card show up on the app?   \n",
       "2                I need to know your exchange rates.   \n",
       "3  I purchased something in a foreign currency bu...   \n",
       "4  My statement has a dollar I have been charged ...   \n",
       "\n",
       "                                        cleaned_text  \n",
       "0                            how do i locate my card  \n",
       "1                why wont my card show up on the app  \n",
       "2                 i need to know your exchange rates  \n",
       "3  i purchased sometng in a foreign currency but ...  \n",
       "4  my statement has a dollar i have been charged ...  "
      ]
     },
     "execution_count": 252,
     "metadata": {},
     "output_type": "execute_result"
    }
   ],
   "source": [
    "data_test = pd.read_csv('data/test_dataset.csv')\n",
    "cleaned_test = Preprocess_text(data_test, tokenizer=tokenizer, lower=True, regex_list=regex_list_, Remove_punc=True, stemmer=None,stopwords=None)\n",
    "#cleaned_test = Preprocess_num(cleaned_test)\n",
    "cleaned_test.head()"
   ]
  },
  {
   "cell_type": "code",
   "execution_count": 253,
   "id": "5416a2a4",
   "metadata": {},
   "outputs": [
    {
     "data": {
      "text/plain": [
       "(1042, 2)"
      ]
     },
     "execution_count": 253,
     "metadata": {},
     "output_type": "execute_result"
    }
   ],
   "source": [
    "cleaned_test.shape"
   ]
  },
  {
   "cell_type": "code",
   "execution_count": 254,
   "id": "4bf837e2",
   "metadata": {},
   "outputs": [
    {
     "data": {
      "text/plain": [
       "(1042,)"
      ]
     },
     "execution_count": 254,
     "metadata": {},
     "output_type": "execute_result"
    }
   ],
   "source": [
    "y_test_preds = clf.predict(cleaned_test)\n",
    "y_test_preds.shape"
   ]
  },
  {
   "cell_type": "code",
   "execution_count": 255,
   "id": "adfe5086",
   "metadata": {},
   "outputs": [
    {
     "data": {
      "text/html": [
       "<div>\n",
       "<style scoped>\n",
       "    .dataframe tbody tr th:only-of-type {\n",
       "        vertical-align: middle;\n",
       "    }\n",
       "\n",
       "    .dataframe tbody tr th {\n",
       "        vertical-align: top;\n",
       "    }\n",
       "\n",
       "    .dataframe thead th {\n",
       "        text-align: right;\n",
       "    }\n",
       "</style>\n",
       "<table border=\"1\" class=\"dataframe\">\n",
       "  <thead>\n",
       "    <tr style=\"text-align: right;\">\n",
       "      <th></th>\n",
       "      <th>class</th>\n",
       "    </tr>\n",
       "  </thead>\n",
       "  <tbody>\n",
       "    <tr>\n",
       "      <th>0</th>\n",
       "      <td>card</td>\n",
       "    </tr>\n",
       "    <tr>\n",
       "      <th>1</th>\n",
       "      <td>card</td>\n",
       "    </tr>\n",
       "    <tr>\n",
       "      <th>2</th>\n",
       "      <td>others</td>\n",
       "    </tr>\n",
       "    <tr>\n",
       "      <th>3</th>\n",
       "      <td>card</td>\n",
       "    </tr>\n",
       "    <tr>\n",
       "      <th>4</th>\n",
       "      <td>others</td>\n",
       "    </tr>\n",
       "    <tr>\n",
       "      <th>...</th>\n",
       "      <td>...</td>\n",
       "    </tr>\n",
       "    <tr>\n",
       "      <th>1037</th>\n",
       "      <td>card</td>\n",
       "    </tr>\n",
       "    <tr>\n",
       "      <th>1038</th>\n",
       "      <td>others</td>\n",
       "    </tr>\n",
       "    <tr>\n",
       "      <th>1039</th>\n",
       "      <td>others</td>\n",
       "    </tr>\n",
       "    <tr>\n",
       "      <th>1040</th>\n",
       "      <td>others</td>\n",
       "    </tr>\n",
       "    <tr>\n",
       "      <th>1041</th>\n",
       "      <td>others</td>\n",
       "    </tr>\n",
       "  </tbody>\n",
       "</table>\n",
       "<p>1042 rows × 1 columns</p>\n",
       "</div>"
      ],
      "text/plain": [
       "       class\n",
       "0       card\n",
       "1       card\n",
       "2     others\n",
       "3       card\n",
       "4     others\n",
       "...      ...\n",
       "1037    card\n",
       "1038  others\n",
       "1039  others\n",
       "1040  others\n",
       "1041  others\n",
       "\n",
       "[1042 rows x 1 columns]"
      ]
     },
     "execution_count": 255,
     "metadata": {},
     "output_type": "execute_result"
    }
   ],
   "source": [
    "submission = pd.DataFrame({'class':y_test_preds})\n",
    "submission"
   ]
  },
  {
   "cell_type": "code",
   "execution_count": 256,
   "id": "5522d601",
   "metadata": {},
   "outputs": [],
   "source": [
    "submission.to_csv('data/sub_hypergamma_kernal_regex_list.csv', index=False)"
   ]
  },
  {
   "cell_type": "code",
   "execution_count": null,
   "id": "2f92c744",
   "metadata": {},
   "outputs": [],
   "source": []
  }
 ],
 "metadata": {
  "kernelspec": {
   "display_name": "Python 3 (ipykernel)",
   "language": "python",
   "name": "python3"
  },
  "language_info": {
   "codemirror_mode": {
    "name": "ipython",
    "version": 3
   },
   "file_extension": ".py",
   "mimetype": "text/x-python",
   "name": "python",
   "nbconvert_exporter": "python",
   "pygments_lexer": "ipython3",
   "version": "3.9.4"
  }
 },
 "nbformat": 4,
 "nbformat_minor": 5
}
